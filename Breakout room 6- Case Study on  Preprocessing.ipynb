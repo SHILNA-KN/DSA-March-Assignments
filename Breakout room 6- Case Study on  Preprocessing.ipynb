{
 "cells": [
  {
   "cell_type": "code",
   "execution_count": 1,
   "id": "cba205b2",
   "metadata": {},
   "outputs": [],
   "source": [
    "import numpy as np\n",
    "import pandas as pd\n",
    "import matplotlib.pyplot as plt"
   ]
  },
  {
   "cell_type": "code",
   "execution_count": 2,
   "id": "c083d2b9",
   "metadata": {},
   "outputs": [],
   "source": [
    "df= pd.read_excel(r\"C:\\Users\\HP\\OneDrive\\Documents\\E-commerce.xlsx\")"
   ]
  },
  {
   "cell_type": "code",
   "execution_count": 3,
   "id": "5e449e0e",
   "metadata": {},
   "outputs": [
    {
     "data": {
      "text/html": [
       "<div>\n",
       "<style scoped>\n",
       "    .dataframe tbody tr th:only-of-type {\n",
       "        vertical-align: middle;\n",
       "    }\n",
       "\n",
       "    .dataframe tbody tr th {\n",
       "        vertical-align: top;\n",
       "    }\n",
       "\n",
       "    .dataframe thead th {\n",
       "        text-align: right;\n",
       "    }\n",
       "</style>\n",
       "<table border=\"1\" class=\"dataframe\">\n",
       "  <thead>\n",
       "    <tr style=\"text-align: right;\">\n",
       "      <th></th>\n",
       "      <th>server_time</th>\n",
       "      <th>device_type</th>\n",
       "      <th>user_id</th>\n",
       "      <th>session_id</th>\n",
       "      <th>item_id</th>\n",
       "      <th>item_price</th>\n",
       "      <th>category</th>\n",
       "      <th>product_type</th>\n",
       "      <th>impression_time</th>\n",
       "      <th>app_code</th>\n",
       "      <th>os_version</th>\n",
       "      <th>is_4G</th>\n",
       "      <th>is_click</th>\n",
       "    </tr>\n",
       "  </thead>\n",
       "  <tbody>\n",
       "    <tr>\n",
       "      <th>0</th>\n",
       "      <td>2018-10-18 14:27:00</td>\n",
       "      <td>android</td>\n",
       "      <td>87862.0</td>\n",
       "      <td>268465.0</td>\n",
       "      <td>44459.0</td>\n",
       "      <td>4602.0</td>\n",
       "      <td>11.0</td>\n",
       "      <td>3040.0</td>\n",
       "      <td>2018-11-15 00:00:00</td>\n",
       "      <td>422.0</td>\n",
       "      <td>old</td>\n",
       "      <td>0</td>\n",
       "      <td>0</td>\n",
       "    </tr>\n",
       "    <tr>\n",
       "      <th>1</th>\n",
       "      <td>2018-10-18 14:27:00</td>\n",
       "      <td>android</td>\n",
       "      <td>63410.0</td>\n",
       "      <td>268465.0</td>\n",
       "      <td>44459.0</td>\n",
       "      <td>3513.0</td>\n",
       "      <td>12.0</td>\n",
       "      <td>6822.0</td>\n",
       "      <td>2018-11-15 00:01:00</td>\n",
       "      <td>467.0</td>\n",
       "      <td>latest</td>\n",
       "      <td>1</td>\n",
       "      <td>1</td>\n",
       "    </tr>\n",
       "    <tr>\n",
       "      <th>2</th>\n",
       "      <td>2018-10-18 14:43:00</td>\n",
       "      <td>android</td>\n",
       "      <td>71748.0</td>\n",
       "      <td>268465.0</td>\n",
       "      <td>44459.0</td>\n",
       "      <td>825.0</td>\n",
       "      <td>17.0</td>\n",
       "      <td>1619.0</td>\n",
       "      <td>2018-11-15 00:02:00</td>\n",
       "      <td>259.0</td>\n",
       "      <td>intermediate</td>\n",
       "      <td>1</td>\n",
       "      <td>0</td>\n",
       "    </tr>\n",
       "    <tr>\n",
       "      <th>3</th>\n",
       "      <td>2018-10-18 14:46:00</td>\n",
       "      <td>android</td>\n",
       "      <td>69209.0</td>\n",
       "      <td>268465.0</td>\n",
       "      <td>44459.0</td>\n",
       "      <td>2355.0</td>\n",
       "      <td>13.0</td>\n",
       "      <td>5264.0</td>\n",
       "      <td>2018-11-15 00:02:00</td>\n",
       "      <td>244.0</td>\n",
       "      <td>latest</td>\n",
       "      <td>1</td>\n",
       "      <td>0</td>\n",
       "    </tr>\n",
       "    <tr>\n",
       "      <th>4</th>\n",
       "      <td>2018-10-18 14:46:00</td>\n",
       "      <td>android</td>\n",
       "      <td>62873.0</td>\n",
       "      <td>268465.0</td>\n",
       "      <td>44459.0</td>\n",
       "      <td>1267.0</td>\n",
       "      <td>17.0</td>\n",
       "      <td>10239.0</td>\n",
       "      <td>2018-11-15 00:02:00</td>\n",
       "      <td>473.0</td>\n",
       "      <td>latest</td>\n",
       "      <td>0</td>\n",
       "      <td>0</td>\n",
       "    </tr>\n",
       "  </tbody>\n",
       "</table>\n",
       "</div>"
      ],
      "text/plain": [
       "          server_time device_type  user_id  session_id  item_id  item_price  \\\n",
       "0 2018-10-18 14:27:00     android  87862.0    268465.0  44459.0      4602.0   \n",
       "1 2018-10-18 14:27:00     android  63410.0    268465.0  44459.0      3513.0   \n",
       "2 2018-10-18 14:43:00     android  71748.0    268465.0  44459.0       825.0   \n",
       "3 2018-10-18 14:46:00     android  69209.0    268465.0  44459.0      2355.0   \n",
       "4 2018-10-18 14:46:00     android  62873.0    268465.0  44459.0      1267.0   \n",
       "\n",
       "   category  product_type     impression_time  app_code    os_version  is_4G  \\\n",
       "0      11.0        3040.0 2018-11-15 00:00:00     422.0           old      0   \n",
       "1      12.0        6822.0 2018-11-15 00:01:00     467.0        latest      1   \n",
       "2      17.0        1619.0 2018-11-15 00:02:00     259.0  intermediate      1   \n",
       "3      13.0        5264.0 2018-11-15 00:02:00     244.0        latest      1   \n",
       "4      17.0       10239.0 2018-11-15 00:02:00     473.0        latest      0   \n",
       "\n",
       "   is_click  \n",
       "0         0  \n",
       "1         1  \n",
       "2         0  \n",
       "3         0  \n",
       "4         0  "
      ]
     },
     "execution_count": 3,
     "metadata": {},
     "output_type": "execute_result"
    }
   ],
   "source": [
    "df.head()"
   ]
  },
  {
   "cell_type": "code",
   "execution_count": 4,
   "id": "a68e2b52",
   "metadata": {},
   "outputs": [
    {
     "data": {
      "text/plain": [
       "(2025, 13)"
      ]
     },
     "execution_count": 4,
     "metadata": {},
     "output_type": "execute_result"
    }
   ],
   "source": [
    "df.shape  "
   ]
  },
  {
   "cell_type": "code",
   "execution_count": 5,
   "id": "b9142350",
   "metadata": {
    "scrolled": true
   },
   "outputs": [
    {
     "data": {
      "text/plain": [
       "server_time        1715\n",
       "device_type           1\n",
       "user_id            1840\n",
       "session_id          717\n",
       "item_id             976\n",
       "item_price          937\n",
       "category             16\n",
       "product_type       1101\n",
       "impression_time     850\n",
       "app_code            138\n",
       "os_version            3\n",
       "is_4G                 2\n",
       "is_click              2\n",
       "dtype: int64"
      ]
     },
     "execution_count": 5,
     "metadata": {},
     "output_type": "execute_result"
    }
   ],
   "source": [
    "df.nunique()"
   ]
  },
  {
   "cell_type": "code",
   "execution_count": 6,
   "id": "7b27346f",
   "metadata": {},
   "outputs": [
    {
     "name": "stdout",
     "output_type": "stream",
     "text": [
      "<class 'pandas.core.frame.DataFrame'>\n",
      "RangeIndex: 2025 entries, 0 to 2024\n",
      "Data columns (total 13 columns):\n",
      " #   Column           Non-Null Count  Dtype         \n",
      "---  ------           --------------  -----         \n",
      " 0   server_time      2025 non-null   datetime64[ns]\n",
      " 1   device_type      2025 non-null   object        \n",
      " 2   user_id          2022 non-null   float64       \n",
      " 3   session_id       2024 non-null   float64       \n",
      " 4   item_id          2023 non-null   float64       \n",
      " 5   item_price       2024 non-null   float64       \n",
      " 6   category         2019 non-null   float64       \n",
      " 7   product_type     2024 non-null   float64       \n",
      " 8   impression_time  2025 non-null   datetime64[ns]\n",
      " 9   app_code         2024 non-null   float64       \n",
      " 10  os_version       2016 non-null   object        \n",
      " 11  is_4G            2025 non-null   int64         \n",
      " 12  is_click         2025 non-null   int64         \n",
      "dtypes: datetime64[ns](2), float64(7), int64(2), object(2)\n",
      "memory usage: 205.8+ KB\n"
     ]
    }
   ],
   "source": [
    "df.info()"
   ]
  },
  {
   "cell_type": "code",
   "execution_count": 7,
   "id": "31feda56",
   "metadata": {},
   "outputs": [
    {
     "data": {
      "text/html": [
       "<div>\n",
       "<style scoped>\n",
       "    .dataframe tbody tr th:only-of-type {\n",
       "        vertical-align: middle;\n",
       "    }\n",
       "\n",
       "    .dataframe tbody tr th {\n",
       "        vertical-align: top;\n",
       "    }\n",
       "\n",
       "    .dataframe thead th {\n",
       "        text-align: right;\n",
       "    }\n",
       "</style>\n",
       "<table border=\"1\" class=\"dataframe\">\n",
       "  <thead>\n",
       "    <tr style=\"text-align: right;\">\n",
       "      <th></th>\n",
       "      <th>user_id</th>\n",
       "      <th>session_id</th>\n",
       "      <th>item_id</th>\n",
       "      <th>item_price</th>\n",
       "      <th>category</th>\n",
       "      <th>product_type</th>\n",
       "      <th>app_code</th>\n",
       "      <th>is_4G</th>\n",
       "      <th>is_click</th>\n",
       "    </tr>\n",
       "  </thead>\n",
       "  <tbody>\n",
       "    <tr>\n",
       "      <th>count</th>\n",
       "      <td>2022.000000</td>\n",
       "      <td>2.024000e+03</td>\n",
       "      <td>2023.000000</td>\n",
       "      <td>2024.000000</td>\n",
       "      <td>2019.000000</td>\n",
       "      <td>2024.000000</td>\n",
       "      <td>2024.000000</td>\n",
       "      <td>2025.000000</td>\n",
       "      <td>2025.000000</td>\n",
       "    </tr>\n",
       "    <tr>\n",
       "      <th>mean</th>\n",
       "      <td>46714.461919</td>\n",
       "      <td>5.473724e+05</td>\n",
       "      <td>63505.154721</td>\n",
       "      <td>6661.115119</td>\n",
       "      <td>10.290738</td>\n",
       "      <td>5359.607213</td>\n",
       "      <td>244.741107</td>\n",
       "      <td>0.342222</td>\n",
       "      <td>0.049877</td>\n",
       "    </tr>\n",
       "    <tr>\n",
       "      <th>std</th>\n",
       "      <td>26401.598808</td>\n",
       "      <td>3.108620e+05</td>\n",
       "      <td>36830.177344</td>\n",
       "      <td>17296.372880</td>\n",
       "      <td>4.961514</td>\n",
       "      <td>3076.114288</td>\n",
       "      <td>124.477650</td>\n",
       "      <td>0.474571</td>\n",
       "      <td>0.217744</td>\n",
       "    </tr>\n",
       "    <tr>\n",
       "      <th>min</th>\n",
       "      <td>10.000000</td>\n",
       "      <td>1.694000e+03</td>\n",
       "      <td>176.000000</td>\n",
       "      <td>16.000000</td>\n",
       "      <td>0.000000</td>\n",
       "      <td>6.000000</td>\n",
       "      <td>1.000000</td>\n",
       "      <td>0.000000</td>\n",
       "      <td>0.000000</td>\n",
       "    </tr>\n",
       "    <tr>\n",
       "      <th>25%</th>\n",
       "      <td>24853.000000</td>\n",
       "      <td>2.738070e+05</td>\n",
       "      <td>33845.500000</td>\n",
       "      <td>1465.000000</td>\n",
       "      <td>7.000000</td>\n",
       "      <td>2758.750000</td>\n",
       "      <td>190.000000</td>\n",
       "      <td>0.000000</td>\n",
       "      <td>0.000000</td>\n",
       "    </tr>\n",
       "    <tr>\n",
       "      <th>50%</th>\n",
       "      <td>46248.000000</td>\n",
       "      <td>5.440370e+05</td>\n",
       "      <td>62896.000000</td>\n",
       "      <td>2425.000000</td>\n",
       "      <td>11.000000</td>\n",
       "      <td>5355.500000</td>\n",
       "      <td>207.000000</td>\n",
       "      <td>0.000000</td>\n",
       "      <td>0.000000</td>\n",
       "    </tr>\n",
       "    <tr>\n",
       "      <th>75%</th>\n",
       "      <td>69375.500000</td>\n",
       "      <td>7.996875e+05</td>\n",
       "      <td>91322.000000</td>\n",
       "      <td>4793.000000</td>\n",
       "      <td>14.000000</td>\n",
       "      <td>8121.000000</td>\n",
       "      <td>371.000000</td>\n",
       "      <td>1.000000</td>\n",
       "      <td>0.000000</td>\n",
       "    </tr>\n",
       "    <tr>\n",
       "      <th>max</th>\n",
       "      <td>92508.000000</td>\n",
       "      <td>1.089219e+06</td>\n",
       "      <td>132865.000000</td>\n",
       "      <td>239360.000000</td>\n",
       "      <td>17.000000</td>\n",
       "      <td>10573.000000</td>\n",
       "      <td>508.000000</td>\n",
       "      <td>1.000000</td>\n",
       "      <td>1.000000</td>\n",
       "    </tr>\n",
       "  </tbody>\n",
       "</table>\n",
       "</div>"
      ],
      "text/plain": [
       "            user_id    session_id        item_id     item_price     category  \\\n",
       "count   2022.000000  2.024000e+03    2023.000000    2024.000000  2019.000000   \n",
       "mean   46714.461919  5.473724e+05   63505.154721    6661.115119    10.290738   \n",
       "std    26401.598808  3.108620e+05   36830.177344   17296.372880     4.961514   \n",
       "min       10.000000  1.694000e+03     176.000000      16.000000     0.000000   \n",
       "25%    24853.000000  2.738070e+05   33845.500000    1465.000000     7.000000   \n",
       "50%    46248.000000  5.440370e+05   62896.000000    2425.000000    11.000000   \n",
       "75%    69375.500000  7.996875e+05   91322.000000    4793.000000    14.000000   \n",
       "max    92508.000000  1.089219e+06  132865.000000  239360.000000    17.000000   \n",
       "\n",
       "       product_type     app_code        is_4G     is_click  \n",
       "count   2024.000000  2024.000000  2025.000000  2025.000000  \n",
       "mean    5359.607213   244.741107     0.342222     0.049877  \n",
       "std     3076.114288   124.477650     0.474571     0.217744  \n",
       "min        6.000000     1.000000     0.000000     0.000000  \n",
       "25%     2758.750000   190.000000     0.000000     0.000000  \n",
       "50%     5355.500000   207.000000     0.000000     0.000000  \n",
       "75%     8121.000000   371.000000     1.000000     0.000000  \n",
       "max    10573.000000   508.000000     1.000000     1.000000  "
      ]
     },
     "execution_count": 7,
     "metadata": {},
     "output_type": "execute_result"
    }
   ],
   "source": [
    "df.describe()"
   ]
  },
  {
   "cell_type": "markdown",
   "id": "05b4007f",
   "metadata": {},
   "source": [
    "#### handling missing values"
   ]
  },
  {
   "cell_type": "code",
   "execution_count": 8,
   "id": "d94ea410",
   "metadata": {},
   "outputs": [
    {
     "data": {
      "text/plain": [
       "server_time        0\n",
       "device_type        0\n",
       "user_id            3\n",
       "session_id         1\n",
       "item_id            2\n",
       "item_price         1\n",
       "category           6\n",
       "product_type       1\n",
       "impression_time    0\n",
       "app_code           1\n",
       "os_version         9\n",
       "is_4G              0\n",
       "is_click           0\n",
       "dtype: int64"
      ]
     },
     "execution_count": 8,
     "metadata": {},
     "output_type": "execute_result"
    }
   ],
   "source": [
    "df.isna().sum()"
   ]
  },
  {
   "cell_type": "code",
   "execution_count": 9,
   "id": "5305e0be",
   "metadata": {},
   "outputs": [
    {
     "data": {
      "image/png": "[encoded data removed]",
      "text/plain": [
       "<Figure size 2000x1500 with 9 Axes>"
      ]
     },
     "metadata": {},
     "output_type": "display_data"
    }
   ],
   "source": [
    "freqgraph = df.select_dtypes(include=['float'])\n",
    "freqgraph.hist(figsize=(20,15))\n",
    "plt.show()"
   ]
  },
  {
   "cell_type": "code",
   "execution_count": 10,
   "id": "ac707494",
   "metadata": {},
   "outputs": [],
   "source": [
    "for col in ['user_id','session_id','item_id','item_price','category','product_type','app_code']:\n",
    "    df[col]=df[col].fillna(df[col].median())"
   ]
  },
  {
   "cell_type": "code",
   "execution_count": 11,
   "id": "a704a4d2",
   "metadata": {},
   "outputs": [
    {
     "data": {
      "text/plain": [
       "0    latest\n",
       "Name: os_version, dtype: object"
      ]
     },
     "execution_count": 11,
     "metadata": {},
     "output_type": "execute_result"
    }
   ],
   "source": [
    "df['os_version'].mode()"
   ]
  },
  {
   "cell_type": "code",
   "execution_count": 45,
   "id": "a06ce5f5",
   "metadata": {},
   "outputs": [],
   "source": [
    "df['os_version']= df['os_version'].fillna(df['os_version'].mode())"
   ]
  },
  {
   "cell_type": "code",
   "execution_count": 46,
   "id": "b5d44428",
   "metadata": {
    "scrolled": false
   },
   "outputs": [
    {
     "data": {
      "text/plain": [
       "server_time        0\n",
       "device_type        0\n",
       "user_id            0\n",
       "session_id         0\n",
       "item_id            0\n",
       "item_price         0\n",
       "category           0\n",
       "product_type       0\n",
       "impression_time    0\n",
       "app_code           0\n",
       "os_version         0\n",
       "is_4G              0\n",
       "is_click           0\n",
       "dtype: int64"
      ]
     },
     "execution_count": 46,
     "metadata": {},
     "output_type": "execute_result"
    }
   ],
   "source": [
    "df.isna().sum()"
   ]
  },
  {
   "cell_type": "markdown",
   "id": "9c91fac5",
   "metadata": {},
   "source": [
    "#### Handling outliers"
   ]
  },
  {
   "cell_type": "code",
   "execution_count": 14,
   "id": "598bed86",
   "metadata": {
    "scrolled": false
   },
   "outputs": [
    {
     "data": {
      "image/png": "[encoded data removed]",
      "text/plain": [
       "<Figure size 640x480 with 1 Axes>"
      ]
     },
     "metadata": {},
     "output_type": "display_data"
    },
    {
     "data": {
      "image/png": "[encoded data removed]",
      "text/plain": [
       "<Figure size 640x480 with 1 Axes>"
      ]
     },
     "metadata": {},
     "output_type": "display_data"
    },
    {
     "data": {
      "image/png": "[encoded data removed]",
      "text/plain": [
       "<Figure size 640x480 with 1 Axes>"
      ]
     },
     "metadata": {},
     "output_type": "display_data"
    },
    {
     "data": {
      "image/png": "[encoded data removed]",
      "text/plain": [
       "<Figure size 640x480 with 1 Axes>"
      ]
     },
     "metadata": {},
     "output_type": "display_data"
    }
   ],
   "source": [
    "num_cols = ['item_price','category','product_type','app_code']\n",
    "for i in num_cols:\n",
    "    plt.figure()\n",
    "    plt.boxplot(df[i])\n",
    "    plt.title(i)"
   ]
  },
  {
   "cell_type": "code",
   "execution_count": 15,
   "id": "ea78d259",
   "metadata": {},
   "outputs": [
    {
     "name": "stderr",
     "output_type": "stream",
     "text": [
      "C:\\Users\\HP\\AppData\\Local\\Temp\\ipykernel_10008\\502324392.py:1: DeprecationWarning: the `interpolation=` argument to percentile was renamed to `method=`, which has additional options.\n",
      "Users of the modes 'nearest', 'lower', 'higher', or 'midpoint' are encouraged to review the method they used. (Deprecated NumPy 1.22)\n",
      "  Q1= np.percentile(df['item_price'],25,interpolation='midpoint')\n",
      "C:\\Users\\HP\\AppData\\Local\\Temp\\ipykernel_10008\\502324392.py:2: DeprecationWarning: the `interpolation=` argument to percentile was renamed to `method=`, which has additional options.\n",
      "Users of the modes 'nearest', 'lower', 'higher', or 'midpoint' are encouraged to review the method they used. (Deprecated NumPy 1.22)\n",
      "  Q2= np.percentile(df['item_price'],50,interpolation='midpoint')\n",
      "C:\\Users\\HP\\AppData\\Local\\Temp\\ipykernel_10008\\502324392.py:3: DeprecationWarning: the `interpolation=` argument to percentile was renamed to `method=`, which has additional options.\n",
      "Users of the modes 'nearest', 'lower', 'higher', or 'midpoint' are encouraged to review the method they used. (Deprecated NumPy 1.22)\n",
      "  Q3= np.percentile(df['item_price'],75,interpolation='midpoint')\n"
     ]
    }
   ],
   "source": [
    "Q1= np.percentile(df['item_price'],25,interpolation='midpoint')\n",
    "Q2= np.percentile(df['item_price'],50,interpolation='midpoint')\n",
    "Q3= np.percentile(df['item_price'],75,interpolation='midpoint')"
   ]
  },
  {
   "cell_type": "code",
   "execution_count": 16,
   "id": "df877c69",
   "metadata": {},
   "outputs": [
    {
     "name": "stdout",
     "output_type": "stream",
     "text": [
      "1465.0\n",
      "2425.0\n",
      "4793.0\n"
     ]
    }
   ],
   "source": [
    "print(Q1)\n",
    "print(Q2)\n",
    "print(Q3)"
   ]
  },
  {
   "cell_type": "code",
   "execution_count": 17,
   "id": "b0be79cf",
   "metadata": {},
   "outputs": [],
   "source": [
    "IQR= Q3-Q1"
   ]
  },
  {
   "cell_type": "code",
   "execution_count": 18,
   "id": "e66a688a",
   "metadata": {},
   "outputs": [
    {
     "name": "stdout",
     "output_type": "stream",
     "text": [
      "3328.0\n"
     ]
    }
   ],
   "source": [
    "print(IQR)"
   ]
  },
  {
   "cell_type": "code",
   "execution_count": 19,
   "id": "3e704fee",
   "metadata": {},
   "outputs": [],
   "source": [
    "up_lim = Q3+1.5*IQR\n",
    "low_lim = Q1-1.5*IQR"
   ]
  },
  {
   "cell_type": "code",
   "execution_count": 20,
   "id": "a94f245b",
   "metadata": {},
   "outputs": [
    {
     "name": "stdout",
     "output_type": "stream",
     "text": [
      "9785.0\n",
      "-3527.0\n"
     ]
    }
   ],
   "source": [
    "print(up_lim)\n",
    "print(low_lim)"
   ]
  },
  {
   "cell_type": "code",
   "execution_count": 21,
   "id": "2c243f44",
   "metadata": {},
   "outputs": [],
   "source": [
    "outliers = []\n",
    "for x in df['item_price']:\n",
    "    if(x>up_lim) or (x<low_lim):\n",
    "        outliers.append(x)"
   ]
  },
  {
   "cell_type": "code",
   "execution_count": 22,
   "id": "987d66de",
   "metadata": {
    "scrolled": false
   },
   "outputs": [
    {
     "name": "stdout",
     "output_type": "stream",
     "text": [
      "[6, 7, 31, 34, 49, 51, 63, 68, 74, 86, 90, 107, 110, 113, 114, 122, 127, 138, 146, 161, 176, 179, 184, 191, 228, 242, 290, 294, 314, 325, 328, 352, 353, 368, 370, 386, 399, 419, 423, 428, 442, 447, 453, 458, 463, 464, 465, 467, 471, 472, 475, 478, 481, 493, 512, 538, 543, 561, 577, 581, 584, 595, 596, 598, 600, 603, 610, 639, 643, 644, 651, 663, 664, 669, 679, 688, 713, 715, 722, 726, 732, 736, 752, 767, 778, 800, 801, 840, 846, 849, 859, 865, 888, 900, 912, 925, 929, 942, 949, 953, 962, 970, 977, 984, 985, 992, 1000, 1013, 1024, 1025, 1033, 1035, 1037, 1057, 1060, 1063, 1065, 1106, 1113, 1121, 1132, 1140, 1146, 1151, 1157, 1166, 1168, 1182, 1198, 1199, 1204, 1206, 1213, 1238, 1248, 1257, 1264, 1267, 1272, 1278, 1281, 1298, 1305, 1320, 1325, 1327, 1329, 1342, 1359, 1373, 1374, 1376, 1386, 1387, 1393, 1396, 1419, 1424, 1426, 1432, 1445, 1446, 1451, 1455, 1460, 1487, 1488, 1490, 1503, 1511, 1520, 1529, 1535, 1542, 1551, 1556, 1560, 1572, 1580, 1584, 1585, 1586, 1592, 1594, 1599, 1606, 1613, 1632, 1636, 1641, 1644, 1646, 1661, 1670, 1673, 1678, 1695, 1697, 1699, 1709, 1722, 1723, 1724, 1726, 1741, 1743, 1746, 1756, 1769, 1780, 1789, 1790, 1803, 1804, 1805, 1808, 1810, 1813, 1827, 1829, 1832, 1837, 1856, 1857, 1858, 1860, 1861, 1865, 1866, 1868, 1869, 1877, 1879, 1882, 1885, 1933, 1937, 1948, 1953, 1961, 1978, 1981, 1983, 1998, 2012]\n"
     ]
    }
   ],
   "source": [
    "ind1 = df['item_price']>up_lim\n",
    "l1= df.loc[ind1].index.tolist()\n",
    "print(l1)"
   ]
  },
  {
   "cell_type": "code",
   "execution_count": 23,
   "id": "f0a0ae5f",
   "metadata": {},
   "outputs": [],
   "source": [
    "df.drop([6,7,31,34,49,51,63,68, 74, 86, 90, 107, 110, 113, 114, 122, 127, 138, 146, 161, 176, 179, 184, 191, 228, 242, 290, 294, 314, 325, 328, 352, 353, 368, 370, 386, 399, 419, 423, 428, 442, 447, 453, 458, 463, 464, 465, 467, 471, 472, 475, 478, 481, 493, 512, 538, 543, 561, 577, 581, 584, 595, 596, 598, 600, 603, 610, 639,643, 644, 651, 663, 664, 669, 679, 688, 713, 715, 722,726,732,736,752,767,778,800,801,840, 846, 849, 859, 865, 888, 900, 912, 925, 929, 942, 949, 953, 962, 970, 977, 984, 985, 992, 1000, 1013,1024, 1025, 1033, 1035, 1037, 1057, 1060, 1063, 1065, 1106, 1113, 1121, 1132, 1140, 1146, 1151, 1157, 1166, 1168, 1182, 1198, 1199, 1204, 1206, 1213, 1238, 1248, 1257, 1264, 1267, 1272, 1278,1281,1298, 1305, 1320, 1325,1327, 1329, 1342, 1359, 1373, 1374, 1376, 1386, 1387, 1393, 1396, 1419, 1424, 1426, 1432, 1445, 1446, 1451, 1455, 1460, 1487, 1488, 1490, 1503, 1511, 1520, 1529, 1535, 1542, 1551, 1556, 1560, 1572, 1580, 1584, 1585, 1586, 1592, 1594, 1599, 1606, 1613, 1632, 1636, 1641, 1644, 1646, 1661, 1670, 1673, 1678, 1695, 1697, 1699, 1709, 1722, 1723, 1724, 1726, 1741, 1743, 1746, 1756, 1769, 1780, 1789, 1790, 1803, 1804, 1805, 1808, 1810, 1813, 1827, 1829, 1832, 1837, 1856, 1857, 1858, 1860, 1861, 1865, 1866, 1868, 1869, 1877, 1879, 1882, 1885, 1933, 1937, 1948, 1953, 1961, 1978, 1981,1983, 1998, 2012],inplace=True)"
   ]
  },
  {
   "cell_type": "code",
   "execution_count": 24,
   "id": "ed362c34",
   "metadata": {},
   "outputs": [
    {
     "data": {
      "text/plain": [
       "(1780, 13)"
      ]
     },
     "execution_count": 24,
     "metadata": {},
     "output_type": "execute_result"
    }
   ],
   "source": [
    "df.shape"
   ]
  },
  {
   "cell_type": "markdown",
   "id": "afb5b8f5",
   "metadata": {},
   "source": [
    "#### One Hot Encoding"
   ]
  },
  {
   "cell_type": "code",
   "execution_count": 26,
   "id": "285e5900",
   "metadata": {},
   "outputs": [],
   "source": [
    "df1= pd.get_dummies(df)"
   ]
  },
  {
   "cell_type": "code",
   "execution_count": 27,
   "id": "11865698",
   "metadata": {},
   "outputs": [
    {
     "data": {
      "text/plain": [
       "(1780, 15)"
      ]
     },
     "execution_count": 27,
     "metadata": {},
     "output_type": "execute_result"
    }
   ],
   "source": [
    "df1.shape"
   ]
  },
  {
   "cell_type": "code",
   "execution_count": 25,
   "id": "9976441f",
   "metadata": {},
   "outputs": [
    {
     "data": {
      "text/plain": [
       "server_time        datetime64[ns]\n",
       "device_type                object\n",
       "user_id                   float64\n",
       "session_id                float64\n",
       "item_id                   float64\n",
       "item_price                float64\n",
       "category                  float64\n",
       "product_type              float64\n",
       "impression_time    datetime64[ns]\n",
       "app_code                  float64\n",
       "os_version                 object\n",
       "is_4G                       int64\n",
       "is_click                    int64\n",
       "dtype: object"
      ]
     },
     "execution_count": 25,
     "metadata": {},
     "output_type": "execute_result"
    }
   ],
   "source": [
    "df.dtypes"
   ]
  },
  {
   "cell_type": "code",
   "execution_count": 36,
   "id": "cb8588cb",
   "metadata": {},
   "outputs": [
    {
     "data": {
      "text/plain": [
       "1"
      ]
     },
     "execution_count": 36,
     "metadata": {},
     "output_type": "execute_result"
    }
   ],
   "source": [
    "df['device_type'].nunique()"
   ]
  },
  {
   "cell_type": "code",
   "execution_count": 37,
   "id": "c5aa3c05",
   "metadata": {},
   "outputs": [
    {
     "data": {
      "text/plain": [
       "3"
      ]
     },
     "execution_count": 37,
     "metadata": {},
     "output_type": "execute_result"
    }
   ],
   "source": [
    "df['os_version'].nunique()"
   ]
  },
  {
   "cell_type": "code",
   "execution_count": 39,
   "id": "115c9820",
   "metadata": {},
   "outputs": [],
   "source": [
    "df2= df.drop('device_type', axis=1)"
   ]
  },
  {
   "cell_type": "code",
   "execution_count": 40,
   "id": "b6164ea6",
   "metadata": {},
   "outputs": [
    {
     "data": {
      "text/html": [
       "<div>\n",
       "<style scoped>\n",
       "    .dataframe tbody tr th:only-of-type {\n",
       "        vertical-align: middle;\n",
       "    }\n",
       "\n",
       "    .dataframe tbody tr th {\n",
       "        vertical-align: top;\n",
       "    }\n",
       "\n",
       "    .dataframe thead th {\n",
       "        text-align: right;\n",
       "    }\n",
       "</style>\n",
       "<table border=\"1\" class=\"dataframe\">\n",
       "  <thead>\n",
       "    <tr style=\"text-align: right;\">\n",
       "      <th></th>\n",
       "      <th>server_time</th>\n",
       "      <th>user_id</th>\n",
       "      <th>session_id</th>\n",
       "      <th>item_id</th>\n",
       "      <th>item_price</th>\n",
       "      <th>category</th>\n",
       "      <th>product_type</th>\n",
       "      <th>impression_time</th>\n",
       "      <th>app_code</th>\n",
       "      <th>os_version</th>\n",
       "      <th>is_4G</th>\n",
       "      <th>is_click</th>\n",
       "    </tr>\n",
       "  </thead>\n",
       "  <tbody>\n",
       "    <tr>\n",
       "      <th>0</th>\n",
       "      <td>2018-10-18 14:27:00</td>\n",
       "      <td>87862.0</td>\n",
       "      <td>268465.0</td>\n",
       "      <td>44459.0</td>\n",
       "      <td>4602.0</td>\n",
       "      <td>11.0</td>\n",
       "      <td>3040.0</td>\n",
       "      <td>2018-11-15 00:00:00</td>\n",
       "      <td>422.0</td>\n",
       "      <td>old</td>\n",
       "      <td>0</td>\n",
       "      <td>0</td>\n",
       "    </tr>\n",
       "    <tr>\n",
       "      <th>1</th>\n",
       "      <td>2018-10-18 14:27:00</td>\n",
       "      <td>63410.0</td>\n",
       "      <td>268465.0</td>\n",
       "      <td>44459.0</td>\n",
       "      <td>3513.0</td>\n",
       "      <td>12.0</td>\n",
       "      <td>6822.0</td>\n",
       "      <td>2018-11-15 00:01:00</td>\n",
       "      <td>467.0</td>\n",
       "      <td>latest</td>\n",
       "      <td>1</td>\n",
       "      <td>1</td>\n",
       "    </tr>\n",
       "    <tr>\n",
       "      <th>2</th>\n",
       "      <td>2018-10-18 14:43:00</td>\n",
       "      <td>71748.0</td>\n",
       "      <td>268465.0</td>\n",
       "      <td>44459.0</td>\n",
       "      <td>825.0</td>\n",
       "      <td>17.0</td>\n",
       "      <td>1619.0</td>\n",
       "      <td>2018-11-15 00:02:00</td>\n",
       "      <td>259.0</td>\n",
       "      <td>intermediate</td>\n",
       "      <td>1</td>\n",
       "      <td>0</td>\n",
       "    </tr>\n",
       "    <tr>\n",
       "      <th>3</th>\n",
       "      <td>2018-10-18 14:46:00</td>\n",
       "      <td>69209.0</td>\n",
       "      <td>268465.0</td>\n",
       "      <td>44459.0</td>\n",
       "      <td>2355.0</td>\n",
       "      <td>13.0</td>\n",
       "      <td>5264.0</td>\n",
       "      <td>2018-11-15 00:02:00</td>\n",
       "      <td>244.0</td>\n",
       "      <td>latest</td>\n",
       "      <td>1</td>\n",
       "      <td>0</td>\n",
       "    </tr>\n",
       "    <tr>\n",
       "      <th>4</th>\n",
       "      <td>2018-10-18 14:46:00</td>\n",
       "      <td>62873.0</td>\n",
       "      <td>268465.0</td>\n",
       "      <td>44459.0</td>\n",
       "      <td>1267.0</td>\n",
       "      <td>17.0</td>\n",
       "      <td>10239.0</td>\n",
       "      <td>2018-11-15 00:02:00</td>\n",
       "      <td>473.0</td>\n",
       "      <td>latest</td>\n",
       "      <td>0</td>\n",
       "      <td>0</td>\n",
       "    </tr>\n",
       "  </tbody>\n",
       "</table>\n",
       "</div>"
      ],
      "text/plain": [
       "          server_time  user_id  session_id  item_id  item_price  category  \\\n",
       "0 2018-10-18 14:27:00  87862.0    268465.0  44459.0      4602.0      11.0   \n",
       "1 2018-10-18 14:27:00  63410.0    268465.0  44459.0      3513.0      12.0   \n",
       "2 2018-10-18 14:43:00  71748.0    268465.0  44459.0       825.0      17.0   \n",
       "3 2018-10-18 14:46:00  69209.0    268465.0  44459.0      2355.0      13.0   \n",
       "4 2018-10-18 14:46:00  62873.0    268465.0  44459.0      1267.0      17.0   \n",
       "\n",
       "   product_type     impression_time  app_code    os_version  is_4G  is_click  \n",
       "0        3040.0 2018-11-15 00:00:00     422.0           old      0         0  \n",
       "1        6822.0 2018-11-15 00:01:00     467.0        latest      1         1  \n",
       "2        1619.0 2018-11-15 00:02:00     259.0  intermediate      1         0  \n",
       "3        5264.0 2018-11-15 00:02:00     244.0        latest      1         0  \n",
       "4       10239.0 2018-11-15 00:02:00     473.0        latest      0         0  "
      ]
     },
     "execution_count": 40,
     "metadata": {},
     "output_type": "execute_result"
    }
   ],
   "source": [
    "df2.head()"
   ]
  },
  {
   "cell_type": "code",
   "execution_count": 41,
   "id": "903f834f",
   "metadata": {},
   "outputs": [],
   "source": [
    "df2 = pd.get_dummies(df2)"
   ]
  },
  {
   "cell_type": "code",
   "execution_count": 42,
   "id": "d5a569e1",
   "metadata": {},
   "outputs": [
    {
     "data": {
      "text/html": [
       "<div>\n",
       "<style scoped>\n",
       "    .dataframe tbody tr th:only-of-type {\n",
       "        vertical-align: middle;\n",
       "    }\n",
       "\n",
       "    .dataframe tbody tr th {\n",
       "        vertical-align: top;\n",
       "    }\n",
       "\n",
       "    .dataframe thead th {\n",
       "        text-align: right;\n",
       "    }\n",
       "</style>\n",
       "<table border=\"1\" class=\"dataframe\">\n",
       "  <thead>\n",
       "    <tr style=\"text-align: right;\">\n",
       "      <th></th>\n",
       "      <th>server_time</th>\n",
       "      <th>user_id</th>\n",
       "      <th>session_id</th>\n",
       "      <th>item_id</th>\n",
       "      <th>item_price</th>\n",
       "      <th>category</th>\n",
       "      <th>product_type</th>\n",
       "      <th>impression_time</th>\n",
       "      <th>app_code</th>\n",
       "      <th>is_4G</th>\n",
       "      <th>is_click</th>\n",
       "      <th>os_version_intermediate</th>\n",
       "      <th>os_version_latest</th>\n",
       "      <th>os_version_old</th>\n",
       "    </tr>\n",
       "  </thead>\n",
       "  <tbody>\n",
       "    <tr>\n",
       "      <th>0</th>\n",
       "      <td>2018-10-18 14:27:00</td>\n",
       "      <td>87862.0</td>\n",
       "      <td>268465.0</td>\n",
       "      <td>44459.0</td>\n",
       "      <td>4602.0</td>\n",
       "      <td>11.0</td>\n",
       "      <td>3040.0</td>\n",
       "      <td>2018-11-15 00:00:00</td>\n",
       "      <td>422.0</td>\n",
       "      <td>0</td>\n",
       "      <td>0</td>\n",
       "      <td>0</td>\n",
       "      <td>0</td>\n",
       "      <td>1</td>\n",
       "    </tr>\n",
       "    <tr>\n",
       "      <th>1</th>\n",
       "      <td>2018-10-18 14:27:00</td>\n",
       "      <td>63410.0</td>\n",
       "      <td>268465.0</td>\n",
       "      <td>44459.0</td>\n",
       "      <td>3513.0</td>\n",
       "      <td>12.0</td>\n",
       "      <td>6822.0</td>\n",
       "      <td>2018-11-15 00:01:00</td>\n",
       "      <td>467.0</td>\n",
       "      <td>1</td>\n",
       "      <td>1</td>\n",
       "      <td>0</td>\n",
       "      <td>1</td>\n",
       "      <td>0</td>\n",
       "    </tr>\n",
       "    <tr>\n",
       "      <th>2</th>\n",
       "      <td>2018-10-18 14:43:00</td>\n",
       "      <td>71748.0</td>\n",
       "      <td>268465.0</td>\n",
       "      <td>44459.0</td>\n",
       "      <td>825.0</td>\n",
       "      <td>17.0</td>\n",
       "      <td>1619.0</td>\n",
       "      <td>2018-11-15 00:02:00</td>\n",
       "      <td>259.0</td>\n",
       "      <td>1</td>\n",
       "      <td>0</td>\n",
       "      <td>1</td>\n",
       "      <td>0</td>\n",
       "      <td>0</td>\n",
       "    </tr>\n",
       "    <tr>\n",
       "      <th>3</th>\n",
       "      <td>2018-10-18 14:46:00</td>\n",
       "      <td>69209.0</td>\n",
       "      <td>268465.0</td>\n",
       "      <td>44459.0</td>\n",
       "      <td>2355.0</td>\n",
       "      <td>13.0</td>\n",
       "      <td>5264.0</td>\n",
       "      <td>2018-11-15 00:02:00</td>\n",
       "      <td>244.0</td>\n",
       "      <td>1</td>\n",
       "      <td>0</td>\n",
       "      <td>0</td>\n",
       "      <td>1</td>\n",
       "      <td>0</td>\n",
       "    </tr>\n",
       "    <tr>\n",
       "      <th>4</th>\n",
       "      <td>2018-10-18 14:46:00</td>\n",
       "      <td>62873.0</td>\n",
       "      <td>268465.0</td>\n",
       "      <td>44459.0</td>\n",
       "      <td>1267.0</td>\n",
       "      <td>17.0</td>\n",
       "      <td>10239.0</td>\n",
       "      <td>2018-11-15 00:02:00</td>\n",
       "      <td>473.0</td>\n",
       "      <td>0</td>\n",
       "      <td>0</td>\n",
       "      <td>0</td>\n",
       "      <td>1</td>\n",
       "      <td>0</td>\n",
       "    </tr>\n",
       "  </tbody>\n",
       "</table>\n",
       "</div>"
      ],
      "text/plain": [
       "          server_time  user_id  session_id  item_id  item_price  category  \\\n",
       "0 2018-10-18 14:27:00  87862.0    268465.0  44459.0      4602.0      11.0   \n",
       "1 2018-10-18 14:27:00  63410.0    268465.0  44459.0      3513.0      12.0   \n",
       "2 2018-10-18 14:43:00  71748.0    268465.0  44459.0       825.0      17.0   \n",
       "3 2018-10-18 14:46:00  69209.0    268465.0  44459.0      2355.0      13.0   \n",
       "4 2018-10-18 14:46:00  62873.0    268465.0  44459.0      1267.0      17.0   \n",
       "\n",
       "   product_type     impression_time  app_code  is_4G  is_click  \\\n",
       "0        3040.0 2018-11-15 00:00:00     422.0      0         0   \n",
       "1        6822.0 2018-11-15 00:01:00     467.0      1         1   \n",
       "2        1619.0 2018-11-15 00:02:00     259.0      1         0   \n",
       "3        5264.0 2018-11-15 00:02:00     244.0      1         0   \n",
       "4       10239.0 2018-11-15 00:02:00     473.0      0         0   \n",
       "\n",
       "   os_version_intermediate  os_version_latest  os_version_old  \n",
       "0                        0                  0               1  \n",
       "1                        0                  1               0  \n",
       "2                        1                  0               0  \n",
       "3                        0                  1               0  \n",
       "4                        0                  1               0  "
      ]
     },
     "execution_count": 42,
     "metadata": {},
     "output_type": "execute_result"
    }
   ],
   "source": [
    "df2.head()"
   ]
  },
  {
   "cell_type": "markdown",
   "id": "a1167d49",
   "metadata": {},
   "source": [
    "#### Label Encoding"
   ]
  },
  {
   "cell_type": "code",
   "execution_count": 28,
   "id": "171276f1",
   "metadata": {},
   "outputs": [],
   "source": [
    "from sklearn.preprocessing import LabelEncoder\n",
    "le = LabelEncoder()"
   ]
  },
  {
   "cell_type": "code",
   "execution_count": 43,
   "id": "ef5ff5ab",
   "metadata": {},
   "outputs": [],
   "source": [
    "df['os_version'] = le.fit_transform(df['os_version'])"
   ]
  },
  {
   "cell_type": "code",
   "execution_count": 44,
   "id": "4c521d81",
   "metadata": {},
   "outputs": [
    {
     "data": {
      "text/html": [
       "<div>\n",
       "<style scoped>\n",
       "    .dataframe tbody tr th:only-of-type {\n",
       "        vertical-align: middle;\n",
       "    }\n",
       "\n",
       "    .dataframe tbody tr th {\n",
       "        vertical-align: top;\n",
       "    }\n",
       "\n",
       "    .dataframe thead th {\n",
       "        text-align: right;\n",
       "    }\n",
       "</style>\n",
       "<table border=\"1\" class=\"dataframe\">\n",
       "  <thead>\n",
       "    <tr style=\"text-align: right;\">\n",
       "      <th></th>\n",
       "      <th>server_time</th>\n",
       "      <th>device_type</th>\n",
       "      <th>user_id</th>\n",
       "      <th>session_id</th>\n",
       "      <th>item_id</th>\n",
       "      <th>item_price</th>\n",
       "      <th>category</th>\n",
       "      <th>product_type</th>\n",
       "      <th>impression_time</th>\n",
       "      <th>app_code</th>\n",
       "      <th>os_version</th>\n",
       "      <th>is_4G</th>\n",
       "      <th>is_click</th>\n",
       "    </tr>\n",
       "  </thead>\n",
       "  <tbody>\n",
       "    <tr>\n",
       "      <th>0</th>\n",
       "      <td>2018-10-18 14:27:00</td>\n",
       "      <td>android</td>\n",
       "      <td>87862.0</td>\n",
       "      <td>268465.0</td>\n",
       "      <td>44459.0</td>\n",
       "      <td>4602.0</td>\n",
       "      <td>11.0</td>\n",
       "      <td>3040.0</td>\n",
       "      <td>2018-11-15 00:00:00</td>\n",
       "      <td>422.0</td>\n",
       "      <td>2</td>\n",
       "      <td>0</td>\n",
       "      <td>0</td>\n",
       "    </tr>\n",
       "    <tr>\n",
       "      <th>1</th>\n",
       "      <td>2018-10-18 14:27:00</td>\n",
       "      <td>android</td>\n",
       "      <td>63410.0</td>\n",
       "      <td>268465.0</td>\n",
       "      <td>44459.0</td>\n",
       "      <td>3513.0</td>\n",
       "      <td>12.0</td>\n",
       "      <td>6822.0</td>\n",
       "      <td>2018-11-15 00:01:00</td>\n",
       "      <td>467.0</td>\n",
       "      <td>1</td>\n",
       "      <td>1</td>\n",
       "      <td>1</td>\n",
       "    </tr>\n",
       "    <tr>\n",
       "      <th>2</th>\n",
       "      <td>2018-10-18 14:43:00</td>\n",
       "      <td>android</td>\n",
       "      <td>71748.0</td>\n",
       "      <td>268465.0</td>\n",
       "      <td>44459.0</td>\n",
       "      <td>825.0</td>\n",
       "      <td>17.0</td>\n",
       "      <td>1619.0</td>\n",
       "      <td>2018-11-15 00:02:00</td>\n",
       "      <td>259.0</td>\n",
       "      <td>0</td>\n",
       "      <td>1</td>\n",
       "      <td>0</td>\n",
       "    </tr>\n",
       "    <tr>\n",
       "      <th>3</th>\n",
       "      <td>2018-10-18 14:46:00</td>\n",
       "      <td>android</td>\n",
       "      <td>69209.0</td>\n",
       "      <td>268465.0</td>\n",
       "      <td>44459.0</td>\n",
       "      <td>2355.0</td>\n",
       "      <td>13.0</td>\n",
       "      <td>5264.0</td>\n",
       "      <td>2018-11-15 00:02:00</td>\n",
       "      <td>244.0</td>\n",
       "      <td>1</td>\n",
       "      <td>1</td>\n",
       "      <td>0</td>\n",
       "    </tr>\n",
       "    <tr>\n",
       "      <th>4</th>\n",
       "      <td>2018-10-18 14:46:00</td>\n",
       "      <td>android</td>\n",
       "      <td>62873.0</td>\n",
       "      <td>268465.0</td>\n",
       "      <td>44459.0</td>\n",
       "      <td>1267.0</td>\n",
       "      <td>17.0</td>\n",
       "      <td>10239.0</td>\n",
       "      <td>2018-11-15 00:02:00</td>\n",
       "      <td>473.0</td>\n",
       "      <td>1</td>\n",
       "      <td>0</td>\n",
       "      <td>0</td>\n",
       "    </tr>\n",
       "  </tbody>\n",
       "</table>\n",
       "</div>"
      ],
      "text/plain": [
       "          server_time device_type  user_id  session_id  item_id  item_price  \\\n",
       "0 2018-10-18 14:27:00     android  87862.0    268465.0  44459.0      4602.0   \n",
       "1 2018-10-18 14:27:00     android  63410.0    268465.0  44459.0      3513.0   \n",
       "2 2018-10-18 14:43:00     android  71748.0    268465.0  44459.0       825.0   \n",
       "3 2018-10-18 14:46:00     android  69209.0    268465.0  44459.0      2355.0   \n",
       "4 2018-10-18 14:46:00     android  62873.0    268465.0  44459.0      1267.0   \n",
       "\n",
       "   category  product_type     impression_time  app_code  os_version  is_4G  \\\n",
       "0      11.0        3040.0 2018-11-15 00:00:00     422.0           2      0   \n",
       "1      12.0        6822.0 2018-11-15 00:01:00     467.0           1      1   \n",
       "2      17.0        1619.0 2018-11-15 00:02:00     259.0           0      1   \n",
       "3      13.0        5264.0 2018-11-15 00:02:00     244.0           1      1   \n",
       "4      17.0       10239.0 2018-11-15 00:02:00     473.0           1      0   \n",
       "\n",
       "   is_click  \n",
       "0         0  \n",
       "1         1  \n",
       "2         0  \n",
       "3         0  \n",
       "4         0  "
      ]
     },
     "execution_count": 44,
     "metadata": {},
     "output_type": "execute_result"
    }
   ],
   "source": [
    "df.head()"
   ]
  },
  {
   "cell_type": "markdown",
   "id": "faef54bf",
   "metadata": {},
   "source": [
    "#### Standard Scaling"
   ]
  },
  {
   "cell_type": "code",
   "execution_count": 29,
   "id": "8b18cd8b",
   "metadata": {},
   "outputs": [],
   "source": [
    "X = df.drop('item_price',axis=1)\n",
    "y = df['item_price']"
   ]
  },
  {
   "cell_type": "code",
   "execution_count": 30,
   "id": "95e88581",
   "metadata": {},
   "outputs": [
    {
     "data": {
      "text/html": [
       "<div>\n",
       "<style scoped>\n",
       "    .dataframe tbody tr th:only-of-type {\n",
       "        vertical-align: middle;\n",
       "    }\n",
       "\n",
       "    .dataframe tbody tr th {\n",
       "        vertical-align: top;\n",
       "    }\n",
       "\n",
       "    .dataframe thead th {\n",
       "        text-align: right;\n",
       "    }\n",
       "</style>\n",
       "<table border=\"1\" class=\"dataframe\">\n",
       "  <thead>\n",
       "    <tr style=\"text-align: right;\">\n",
       "      <th></th>\n",
       "      <th>user_id</th>\n",
       "      <th>session_id</th>\n",
       "      <th>item_id</th>\n",
       "      <th>category</th>\n",
       "      <th>product_type</th>\n",
       "      <th>app_code</th>\n",
       "      <th>is_4G</th>\n",
       "      <th>is_click</th>\n",
       "    </tr>\n",
       "  </thead>\n",
       "  <tbody>\n",
       "    <tr>\n",
       "      <th>count</th>\n",
       "      <td>1780.000000</td>\n",
       "      <td>1.780000e+03</td>\n",
       "      <td>1780.000000</td>\n",
       "      <td>1780.000000</td>\n",
       "      <td>1780.000000</td>\n",
       "      <td>1780.000000</td>\n",
       "      <td>1780.000000</td>\n",
       "      <td>1780.000000</td>\n",
       "    </tr>\n",
       "    <tr>\n",
       "      <th>mean</th>\n",
       "      <td>46729.493820</td>\n",
       "      <td>5.467858e+05</td>\n",
       "      <td>63532.398876</td>\n",
       "      <td>10.260112</td>\n",
       "      <td>5367.814888</td>\n",
       "      <td>244.198876</td>\n",
       "      <td>0.342697</td>\n",
       "      <td>0.048315</td>\n",
       "    </tr>\n",
       "    <tr>\n",
       "      <th>std</th>\n",
       "      <td>26387.962825</td>\n",
       "      <td>3.087378e+05</td>\n",
       "      <td>36639.606662</td>\n",
       "      <td>4.840605</td>\n",
       "      <td>3077.228646</td>\n",
       "      <td>124.634935</td>\n",
       "      <td>0.474744</td>\n",
       "      <td>0.214490</td>\n",
       "    </tr>\n",
       "    <tr>\n",
       "      <th>min</th>\n",
       "      <td>10.000000</td>\n",
       "      <td>1.694000e+03</td>\n",
       "      <td>176.000000</td>\n",
       "      <td>0.000000</td>\n",
       "      <td>8.000000</td>\n",
       "      <td>1.000000</td>\n",
       "      <td>0.000000</td>\n",
       "      <td>0.000000</td>\n",
       "    </tr>\n",
       "    <tr>\n",
       "      <th>25%</th>\n",
       "      <td>24882.250000</td>\n",
       "      <td>2.738070e+05</td>\n",
       "      <td>34687.000000</td>\n",
       "      <td>7.000000</td>\n",
       "      <td>2739.500000</td>\n",
       "      <td>190.000000</td>\n",
       "      <td>0.000000</td>\n",
       "      <td>0.000000</td>\n",
       "    </tr>\n",
       "    <tr>\n",
       "      <th>50%</th>\n",
       "      <td>46148.000000</td>\n",
       "      <td>5.440370e+05</td>\n",
       "      <td>63579.500000</td>\n",
       "      <td>11.000000</td>\n",
       "      <td>5403.000000</td>\n",
       "      <td>207.000000</td>\n",
       "      <td>0.000000</td>\n",
       "      <td>0.000000</td>\n",
       "    </tr>\n",
       "    <tr>\n",
       "      <th>75%</th>\n",
       "      <td>69426.000000</td>\n",
       "      <td>7.992640e+05</td>\n",
       "      <td>90815.000000</td>\n",
       "      <td>13.000000</td>\n",
       "      <td>8121.000000</td>\n",
       "      <td>371.000000</td>\n",
       "      <td>1.000000</td>\n",
       "      <td>0.000000</td>\n",
       "    </tr>\n",
       "    <tr>\n",
       "      <th>max</th>\n",
       "      <td>92508.000000</td>\n",
       "      <td>1.089219e+06</td>\n",
       "      <td>132865.000000</td>\n",
       "      <td>17.000000</td>\n",
       "      <td>10573.000000</td>\n",
       "      <td>508.000000</td>\n",
       "      <td>1.000000</td>\n",
       "      <td>1.000000</td>\n",
       "    </tr>\n",
       "  </tbody>\n",
       "</table>\n",
       "</div>"
      ],
      "text/plain": [
       "            user_id    session_id        item_id     category  product_type  \\\n",
       "count   1780.000000  1.780000e+03    1780.000000  1780.000000   1780.000000   \n",
       "mean   46729.493820  5.467858e+05   63532.398876    10.260112   5367.814888   \n",
       "std    26387.962825  3.087378e+05   36639.606662     4.840605   3077.228646   \n",
       "min       10.000000  1.694000e+03     176.000000     0.000000      8.000000   \n",
       "25%    24882.250000  2.738070e+05   34687.000000     7.000000   2739.500000   \n",
       "50%    46148.000000  5.440370e+05   63579.500000    11.000000   5403.000000   \n",
       "75%    69426.000000  7.992640e+05   90815.000000    13.000000   8121.000000   \n",
       "max    92508.000000  1.089219e+06  132865.000000    17.000000  10573.000000   \n",
       "\n",
       "          app_code        is_4G     is_click  \n",
       "count  1780.000000  1780.000000  1780.000000  \n",
       "mean    244.198876     0.342697     0.048315  \n",
       "std     124.634935     0.474744     0.214490  \n",
       "min       1.000000     0.000000     0.000000  \n",
       "25%     190.000000     0.000000     0.000000  \n",
       "50%     207.000000     0.000000     0.000000  \n",
       "75%     371.000000     1.000000     0.000000  \n",
       "max     508.000000     1.000000     1.000000  "
      ]
     },
     "execution_count": 30,
     "metadata": {},
     "output_type": "execute_result"
    }
   ],
   "source": [
    "X.describe()"
   ]
  },
  {
   "cell_type": "code",
   "execution_count": 31,
   "id": "a5b8bcf6",
   "metadata": {},
   "outputs": [],
   "source": [
    "X1 = pd.DataFrame(X, columns=['category','product_type','app_code'])"
   ]
  },
  {
   "cell_type": "code",
   "execution_count": 32,
   "id": "d440b4a6",
   "metadata": {},
   "outputs": [],
   "source": [
    "from sklearn.preprocessing import StandardScaler\n",
    "std_scl = StandardScaler()"
   ]
  },
  {
   "cell_type": "code",
   "execution_count": 33,
   "id": "bce903c6",
   "metadata": {},
   "outputs": [],
   "source": [
    "X1 = std_scl.fit_transform(X1)"
   ]
  },
  {
   "cell_type": "code",
   "execution_count": 34,
   "id": "193ad5bd",
   "metadata": {},
   "outputs": [],
   "source": [
    "X1 = pd.DataFrame(X1, columns=['category','product_type','app_code'])"
   ]
  },
  {
   "cell_type": "code",
   "execution_count": 35,
   "id": "c71ce58c",
   "metadata": {},
   "outputs": [
    {
     "data": {
      "text/html": [
       "<div>\n",
       "<style scoped>\n",
       "    .dataframe tbody tr th:only-of-type {\n",
       "        vertical-align: middle;\n",
       "    }\n",
       "\n",
       "    .dataframe tbody tr th {\n",
       "        vertical-align: top;\n",
       "    }\n",
       "\n",
       "    .dataframe thead th {\n",
       "        text-align: right;\n",
       "    }\n",
       "</style>\n",
       "<table border=\"1\" class=\"dataframe\">\n",
       "  <thead>\n",
       "    <tr style=\"text-align: right;\">\n",
       "      <th></th>\n",
       "      <th>category</th>\n",
       "      <th>product_type</th>\n",
       "      <th>app_code</th>\n",
       "    </tr>\n",
       "  </thead>\n",
       "  <tbody>\n",
       "    <tr>\n",
       "      <th>count</th>\n",
       "      <td>1.780000e+03</td>\n",
       "      <td>1.780000e+03</td>\n",
       "      <td>1.780000e+03</td>\n",
       "    </tr>\n",
       "    <tr>\n",
       "      <th>mean</th>\n",
       "      <td>1.097749e-16</td>\n",
       "      <td>2.594679e-17</td>\n",
       "      <td>9.181170e-17</td>\n",
       "    </tr>\n",
       "    <tr>\n",
       "      <th>std</th>\n",
       "      <td>1.000281e+00</td>\n",
       "      <td>1.000281e+00</td>\n",
       "      <td>1.000281e+00</td>\n",
       "    </tr>\n",
       "    <tr>\n",
       "      <th>min</th>\n",
       "      <td>-2.120188e+00</td>\n",
       "      <td>-1.742256e+00</td>\n",
       "      <td>-1.951838e+00</td>\n",
       "    </tr>\n",
       "    <tr>\n",
       "      <th>25%</th>\n",
       "      <td>-6.736820e-01</td>\n",
       "      <td>-8.543575e-01</td>\n",
       "      <td>-4.349832e-01</td>\n",
       "    </tr>\n",
       "    <tr>\n",
       "      <th>50%</th>\n",
       "      <td>1.528932e-01</td>\n",
       "      <td>1.143724e-02</td>\n",
       "      <td>-2.985465e-01</td>\n",
       "    </tr>\n",
       "    <tr>\n",
       "      <th>75%</th>\n",
       "      <td>5.661808e-01</td>\n",
       "      <td>8.949477e-01</td>\n",
       "      <td>1.017666e+00</td>\n",
       "    </tr>\n",
       "    <tr>\n",
       "      <th>max</th>\n",
       "      <td>1.392756e+00</td>\n",
       "      <td>1.691993e+00</td>\n",
       "      <td>2.117185e+00</td>\n",
       "    </tr>\n",
       "  </tbody>\n",
       "</table>\n",
       "</div>"
      ],
      "text/plain": [
       "           category  product_type      app_code\n",
       "count  1.780000e+03  1.780000e+03  1.780000e+03\n",
       "mean   1.097749e-16  2.594679e-17  9.181170e-17\n",
       "std    1.000281e+00  1.000281e+00  1.000281e+00\n",
       "min   -2.120188e+00 -1.742256e+00 -1.951838e+00\n",
       "25%   -6.736820e-01 -8.543575e-01 -4.349832e-01\n",
       "50%    1.528932e-01  1.143724e-02 -2.985465e-01\n",
       "75%    5.661808e-01  8.949477e-01  1.017666e+00\n",
       "max    1.392756e+00  1.691993e+00  2.117185e+00"
      ]
     },
     "execution_count": 35,
     "metadata": {},
     "output_type": "execute_result"
    }
   ],
   "source": [
    "X1.describe()"
   ]
  },
  {
   "cell_type": "markdown",
   "id": "9cdd0353",
   "metadata": {},
   "source": [
    "#### Min Max Scaling"
   ]
  },
  {
   "cell_type": "code",
   "execution_count": 47,
   "id": "eb22425d",
   "metadata": {},
   "outputs": [],
   "source": [
    "X = df.drop('item_price',axis=1)\n",
    "y = df['item_price']"
   ]
  },
  {
   "cell_type": "code",
   "execution_count": 50,
   "id": "6d11831a",
   "metadata": {},
   "outputs": [
    {
     "data": {
      "text/html": [
       "<div>\n",
       "<style scoped>\n",
       "    .dataframe tbody tr th:only-of-type {\n",
       "        vertical-align: middle;\n",
       "    }\n",
       "\n",
       "    .dataframe tbody tr th {\n",
       "        vertical-align: top;\n",
       "    }\n",
       "\n",
       "    .dataframe thead th {\n",
       "        text-align: right;\n",
       "    }\n",
       "</style>\n",
       "<table border=\"1\" class=\"dataframe\">\n",
       "  <thead>\n",
       "    <tr style=\"text-align: right;\">\n",
       "      <th></th>\n",
       "      <th>user_id</th>\n",
       "      <th>session_id</th>\n",
       "      <th>item_id</th>\n",
       "      <th>category</th>\n",
       "      <th>product_type</th>\n",
       "      <th>app_code</th>\n",
       "      <th>os_version</th>\n",
       "      <th>is_4G</th>\n",
       "      <th>is_click</th>\n",
       "    </tr>\n",
       "  </thead>\n",
       "  <tbody>\n",
       "    <tr>\n",
       "      <th>count</th>\n",
       "      <td>1780.000000</td>\n",
       "      <td>1.780000e+03</td>\n",
       "      <td>1780.000000</td>\n",
       "      <td>1780.000000</td>\n",
       "      <td>1780.000000</td>\n",
       "      <td>1780.000000</td>\n",
       "      <td>1780.000000</td>\n",
       "      <td>1780.000000</td>\n",
       "      <td>1780.000000</td>\n",
       "    </tr>\n",
       "    <tr>\n",
       "      <th>mean</th>\n",
       "      <td>46729.493820</td>\n",
       "      <td>5.467858e+05</td>\n",
       "      <td>63532.398876</td>\n",
       "      <td>10.260112</td>\n",
       "      <td>5367.814888</td>\n",
       "      <td>244.198876</td>\n",
       "      <td>0.997191</td>\n",
       "      <td>0.342697</td>\n",
       "      <td>0.048315</td>\n",
       "    </tr>\n",
       "    <tr>\n",
       "      <th>std</th>\n",
       "      <td>26387.962825</td>\n",
       "      <td>3.087378e+05</td>\n",
       "      <td>36639.606662</td>\n",
       "      <td>4.840605</td>\n",
       "      <td>3077.228646</td>\n",
       "      <td>124.634935</td>\n",
       "      <td>0.698101</td>\n",
       "      <td>0.474744</td>\n",
       "      <td>0.214490</td>\n",
       "    </tr>\n",
       "    <tr>\n",
       "      <th>min</th>\n",
       "      <td>10.000000</td>\n",
       "      <td>1.694000e+03</td>\n",
       "      <td>176.000000</td>\n",
       "      <td>0.000000</td>\n",
       "      <td>8.000000</td>\n",
       "      <td>1.000000</td>\n",
       "      <td>0.000000</td>\n",
       "      <td>0.000000</td>\n",
       "      <td>0.000000</td>\n",
       "    </tr>\n",
       "    <tr>\n",
       "      <th>25%</th>\n",
       "      <td>24882.250000</td>\n",
       "      <td>2.738070e+05</td>\n",
       "      <td>34687.000000</td>\n",
       "      <td>7.000000</td>\n",
       "      <td>2739.500000</td>\n",
       "      <td>190.000000</td>\n",
       "      <td>1.000000</td>\n",
       "      <td>0.000000</td>\n",
       "      <td>0.000000</td>\n",
       "    </tr>\n",
       "    <tr>\n",
       "      <th>50%</th>\n",
       "      <td>46148.000000</td>\n",
       "      <td>5.440370e+05</td>\n",
       "      <td>63579.500000</td>\n",
       "      <td>11.000000</td>\n",
       "      <td>5403.000000</td>\n",
       "      <td>207.000000</td>\n",
       "      <td>1.000000</td>\n",
       "      <td>0.000000</td>\n",
       "      <td>0.000000</td>\n",
       "    </tr>\n",
       "    <tr>\n",
       "      <th>75%</th>\n",
       "      <td>69426.000000</td>\n",
       "      <td>7.992640e+05</td>\n",
       "      <td>90815.000000</td>\n",
       "      <td>13.000000</td>\n",
       "      <td>8121.000000</td>\n",
       "      <td>371.000000</td>\n",
       "      <td>1.000000</td>\n",
       "      <td>1.000000</td>\n",
       "      <td>0.000000</td>\n",
       "    </tr>\n",
       "    <tr>\n",
       "      <th>max</th>\n",
       "      <td>92508.000000</td>\n",
       "      <td>1.089219e+06</td>\n",
       "      <td>132865.000000</td>\n",
       "      <td>17.000000</td>\n",
       "      <td>10573.000000</td>\n",
       "      <td>508.000000</td>\n",
       "      <td>3.000000</td>\n",
       "      <td>1.000000</td>\n",
       "      <td>1.000000</td>\n",
       "    </tr>\n",
       "  </tbody>\n",
       "</table>\n",
       "</div>"
      ],
      "text/plain": [
       "            user_id    session_id        item_id     category  product_type  \\\n",
       "count   1780.000000  1.780000e+03    1780.000000  1780.000000   1780.000000   \n",
       "mean   46729.493820  5.467858e+05   63532.398876    10.260112   5367.814888   \n",
       "std    26387.962825  3.087378e+05   36639.606662     4.840605   3077.228646   \n",
       "min       10.000000  1.694000e+03     176.000000     0.000000      8.000000   \n",
       "25%    24882.250000  2.738070e+05   34687.000000     7.000000   2739.500000   \n",
       "50%    46148.000000  5.440370e+05   63579.500000    11.000000   5403.000000   \n",
       "75%    69426.000000  7.992640e+05   90815.000000    13.000000   8121.000000   \n",
       "max    92508.000000  1.089219e+06  132865.000000    17.000000  10573.000000   \n",
       "\n",
       "          app_code   os_version        is_4G     is_click  \n",
       "count  1780.000000  1780.000000  1780.000000  1780.000000  \n",
       "mean    244.198876     0.997191     0.342697     0.048315  \n",
       "std     124.634935     0.698101     0.474744     0.214490  \n",
       "min       1.000000     0.000000     0.000000     0.000000  \n",
       "25%     190.000000     1.000000     0.000000     0.000000  \n",
       "50%     207.000000     1.000000     0.000000     0.000000  \n",
       "75%     371.000000     1.000000     1.000000     0.000000  \n",
       "max     508.000000     3.000000     1.000000     1.000000  "
      ]
     },
     "execution_count": 50,
     "metadata": {},
     "output_type": "execute_result"
    }
   ],
   "source": [
    "X.describe()"
   ]
  },
  {
   "cell_type": "code",
   "execution_count": 51,
   "id": "82964558",
   "metadata": {},
   "outputs": [],
   "source": [
    "X2 = pd.DataFrame(X, columns=['category','product_type','app_code'])"
   ]
  },
  {
   "cell_type": "code",
   "execution_count": 52,
   "id": "a260603f",
   "metadata": {},
   "outputs": [],
   "source": [
    "from sklearn.preprocessing import MinMaxScaler\n",
    "min_max = MinMaxScaler()"
   ]
  },
  {
   "cell_type": "code",
   "execution_count": 53,
   "id": "614f1556",
   "metadata": {},
   "outputs": [],
   "source": [
    "X2 = min_max.fit_transform(X2)"
   ]
  },
  {
   "cell_type": "code",
   "execution_count": 55,
   "id": "a5ea0cd5",
   "metadata": {},
   "outputs": [],
   "source": [
    "X2= pd.DataFrame(X2, columns=['category','product_type','app_code'])"
   ]
  },
  {
   "cell_type": "code",
   "execution_count": 56,
   "id": "b837e814",
   "metadata": {},
   "outputs": [
    {
     "data": {
      "text/html": [
       "<div>\n",
       "<style scoped>\n",
       "    .dataframe tbody tr th:only-of-type {\n",
       "        vertical-align: middle;\n",
       "    }\n",
       "\n",
       "    .dataframe tbody tr th {\n",
       "        vertical-align: top;\n",
       "    }\n",
       "\n",
       "    .dataframe thead th {\n",
       "        text-align: right;\n",
       "    }\n",
       "</style>\n",
       "<table border=\"1\" class=\"dataframe\">\n",
       "  <thead>\n",
       "    <tr style=\"text-align: right;\">\n",
       "      <th></th>\n",
       "      <th>category</th>\n",
       "      <th>product_type</th>\n",
       "      <th>app_code</th>\n",
       "    </tr>\n",
       "  </thead>\n",
       "  <tbody>\n",
       "    <tr>\n",
       "      <th>count</th>\n",
       "      <td>1780.000000</td>\n",
       "      <td>1780.000000</td>\n",
       "      <td>1780.000000</td>\n",
       "    </tr>\n",
       "    <tr>\n",
       "      <th>mean</th>\n",
       "      <td>0.603536</td>\n",
       "      <td>0.507318</td>\n",
       "      <td>0.479682</td>\n",
       "    </tr>\n",
       "    <tr>\n",
       "      <th>std</th>\n",
       "      <td>0.284741</td>\n",
       "      <td>0.291266</td>\n",
       "      <td>0.245828</td>\n",
       "    </tr>\n",
       "    <tr>\n",
       "      <th>min</th>\n",
       "      <td>0.000000</td>\n",
       "      <td>0.000000</td>\n",
       "      <td>0.000000</td>\n",
       "    </tr>\n",
       "    <tr>\n",
       "      <th>25%</th>\n",
       "      <td>0.411765</td>\n",
       "      <td>0.258542</td>\n",
       "      <td>0.372781</td>\n",
       "    </tr>\n",
       "    <tr>\n",
       "      <th>50%</th>\n",
       "      <td>0.647059</td>\n",
       "      <td>0.510648</td>\n",
       "      <td>0.406312</td>\n",
       "    </tr>\n",
       "    <tr>\n",
       "      <th>75%</th>\n",
       "      <td>0.764706</td>\n",
       "      <td>0.767913</td>\n",
       "      <td>0.729783</td>\n",
       "    </tr>\n",
       "    <tr>\n",
       "      <th>max</th>\n",
       "      <td>1.000000</td>\n",
       "      <td>1.000000</td>\n",
       "      <td>1.000000</td>\n",
       "    </tr>\n",
       "  </tbody>\n",
       "</table>\n",
       "</div>"
      ],
      "text/plain": [
       "          category  product_type     app_code\n",
       "count  1780.000000   1780.000000  1780.000000\n",
       "mean      0.603536      0.507318     0.479682\n",
       "std       0.284741      0.291266     0.245828\n",
       "min       0.000000      0.000000     0.000000\n",
       "25%       0.411765      0.258542     0.372781\n",
       "50%       0.647059      0.510648     0.406312\n",
       "75%       0.764706      0.767913     0.729783\n",
       "max       1.000000      1.000000     1.000000"
      ]
     },
     "execution_count": 56,
     "metadata": {},
     "output_type": "execute_result"
    }
   ],
   "source": [
    "X2.describe()"
   ]
  },
  {
   "cell_type": "code",
   "execution_count": null,
   "id": "99439786",
   "metadata": {},
   "outputs": [],
   "source": []
  }
 ],
 "metadata": {
  "kernelspec": {
   "display_name": "Python 3 (ipykernel)",
   "language": "python",
   "name": "python3"
  },
  "language_info": {
   "codemirror_mode": {
    "name": "ipython",
    "version": 3
   },
   "file_extension": ".py",
   "mimetype": "text/x-python",
   "name": "python",
   "nbconvert_exporter": "python",
   "pygments_lexer": "ipython3",
   "version": "3.10.9"
  }
 },
 "nbformat": 4,
 "nbformat_minor": 5
}
